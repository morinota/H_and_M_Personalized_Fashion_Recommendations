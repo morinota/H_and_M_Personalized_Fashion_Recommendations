{
 "cells": [
  {
   "cell_type": "code",
   "execution_count": 1,
   "metadata": {},
   "outputs": [],
   "source": [
    "# import \n",
    "import numpy as np\n",
    "import pandas as pd\n",
    "import os\n",
    "from math import sqrt\n",
    "from pathlib import Path\n",
    "from tqdm import tqdm\n",
    "tqdm.pandas()\n",
    "\n",
    "import datetime"
   ]
  },
  {
   "cell_type": "code",
   "execution_count": 2,
   "metadata": {},
   "outputs": [],
   "source": [
    "class DataSet:\n",
    "    # クラス変数の定義\n",
    "    DRIVE_DIR = r'/content/drive/MyDrive/Colab Notebooks/kaggle/H_and_M_Personalized_Fashion_Recommendations'\n",
    "    INPUT_DIR = os.path.join(DRIVE_DIR, 'input')\n",
    "\n",
    "    def __init__(self) -> None:\n",
    "        # インスタンス変数(属性の初期化)\n",
    "        self.ALL_ITEMS = []\n",
    "        self.ALL_USERS = []\n",
    "        self.df_val: pd.DataFrame\n",
    "        pass\n",
    "\n",
    "    def read_data(self, c_id_short: bool = True):\n",
    "\n",
    "        # ファイルパスを用意\n",
    "        csv_train = os.path.join(DataSet.INPUT_DIR, 'transactions_train.csv')\n",
    "        csv_sub = os.path.join(DataSet.INPUT_DIR, 'sample_submission.csv')\n",
    "        csv_users = os.path.join(DataSet.INPUT_DIR, 'customers.csv')\n",
    "        csv_items = os.path.join(DataSet.INPUT_DIR, 'articles.csv')\n",
    "\n",
    "        # データをDataFrame型で読み込み\n",
    "        if c_id_short == True:\n",
    "            # 実際の購買記録の情報\n",
    "            self.df = pd.read_parquet(os.path.join(\n",
    "                DataSet.DRIVE_DIR, 'transactions_train.parquet'))\n",
    "            # dfのcustomer_idはshort版に加工されてるから、カラム名を変更しておく\n",
    "            self.df.rename(\n",
    "                columns={'customer_id': 'customer_id_short'}, inplace=True)\n",
    "\n",
    "            # dfのarticle_idを文字列に為ておく?\n",
    "            # 各顧客の情報(メタデータ)\n",
    "            self.dfu = pd.read_parquet(os.path.join(\n",
    "                DataSet.DRIVE_DIR, 'customers.parquet'))\n",
    "            self.dfu.rename(\n",
    "                columns={'customer_id': 'customer_id_short'}, inplace=True)\n",
    "            # 各商品の情報(メタデータ)\n",
    "            self.dfi = pd.read_parquet(os.path.join(\n",
    "                DataSet.DRIVE_DIR, 'articles.parquet'))\n",
    "        else:\n",
    "            self.df = pd.read_csv(csv_train, dtype={'article_id': str},\n",
    "                                  parse_dates=['t_dat']  # datetime型で読み込み\n",
    "                                  )\n",
    "            self.dfu = pd.read_csv(csv_users)  # 各顧客の情報(メタデータ)\n",
    "            self.dfi = pd.read_csv(\n",
    "                csv_items, dtype={'article_id': str})  # 各商品の情報(メタデータ)\n",
    "\n",
    "            # customer_id_shortカラムを生成\n",
    "            self.df['customer_id_short'] = self.df[\"customer_id\"].apply(lambda s: int(s[-16:], 16)).astype(\"uint64\")\n",
    "            self.dfu['customer_id_short'] =self.dfu[\"customer_id\"].apply(lambda s: int(s[-16:], 16)).astype(\"uint64\")\n",
    "\n",
    "        # price カラムを×10^3しておく...その方が、小数点以下と整数で分けやすい??\n",
    "        self.df['price'] = self.df['price'] * (10 **3)\n",
    "\n",
    "        # 提出用のサンプル\n",
    "        self.df_sub = pd.read_csv(csv_sub)\n",
    "        \n",
    "\n",
    "        # customer_idカラムのみのpd.DataFrameを作っておく(たぶん色々便利なので)\n",
    "        self.df_sub[\"customer_id_short\"] = pd.DataFrame(\n",
    "            self.df_sub[\"customer_id\"].apply(lambda s: int(s[-16:], 16))).astype(\"uint64\")\n",
    "        self.cid = pd.DataFrame(self.df_sub[\"customer_id_short\"])\n",
    "\n",
    "    def read_data_sampled(self, sampling_percentage: float = 5):\n",
    "        # ファイルパスを用意\n",
    "        sampled_data_dir = os.path.join(DataSet.INPUT_DIR, 'sampling_dir')\n",
    "        path_transactions = os.path.join(\n",
    "            sampled_data_dir, f'transactions_train_sample{sampling_percentage}.csv.gz')\n",
    "        path_article = os.path.join(\n",
    "            sampled_data_dir, f'articles_train_sample{sampling_percentage}.csv.gz')\n",
    "        path_customers = os.path.join(\n",
    "            sampled_data_dir, f'customers_sample{sampling_percentage}.csv.gz')\n",
    "\n",
    "        # インスタンス変数として読み込み\n",
    "        self.df = pd.read_csv(path_transactions,\n",
    "                              dtype={'article_id': str},\n",
    "                              parse_dates=['t_dat']  # datetime型で読み込み\n",
    "                              )\n",
    "        # price カラムを×10^3しておく...その方が、小数点以下と整数で分けやすい??\n",
    "        self.df['price'] = self.df['price'] * (10 **3)\n",
    "        self.dfi = pd.read_csv(path_article, dtype={'article_id': str})\n",
    "        self.dfu = pd.read_csv(path_customers)\n",
    "        # df_subはそのまま\n",
    "        csv_sub = os.path.join(DataSet.INPUT_DIR, 'sample_submission.csv')\n",
    "        self.df_sub = pd.read_csv(csv_sub)\n",
    "        # customer_id_shortカラムを作る.\n",
    "        self.df_sub[\"customer_id_short\"] = pd.DataFrame(\n",
    "            self.df_sub[\"customer_id\"].apply(lambda s: int(s[-16:], 16))).astype(\"uint64\")\n",
    "\n",
    "        # customer_idカラムのみのpd.DataFrameを作っておく(たぶん色々便利なので)\n",
    "        self.cid = pd.DataFrame(self.dfu[\"customer_id_short\"].copy())\n",
    "        print(self.cid)"
   ]
  },
  {
   "cell_type": "code",
   "execution_count": 3,
   "metadata": {},
   "outputs": [],
   "source": [
    "Colab_bool = False\n",
    "# Load data\n",
    "if Colab_bool==False:\n",
    "    df_t = pd.read_csv(r'C:\\Users\\Masat\\デスクトップ_Instead\\webアプリ開発\\H_and_M_Personalized_Fashion_Recommendations\\input\\transactions_train_sample5.csv.gz')\n",
    "    df_i = pd.read_csv(r'C:\\Users\\Masat\\デスクトップ_Instead\\webアプリ開発\\H_and_M_Personalized_Fashion_Recommendations\\input\\articles_train_sample5.csv.gz')\n",
    "    df_u = pd.read_csv(r'C:\\Users\\Masat\\デスクトップ_Instead\\webアプリ開発\\H_and_M_Personalized_Fashion_Recommendations\\input\\customers_sample5.csv.gz')\n",
    "\n",
    "# 本番環境(=colab)では...\n",
    "if Colab_bool :\n",
    "    # DataSetオブジェクトの読み込み\n",
    "    dataset = DataSet()\n",
    "    # DataFrameとしてデータ読み込み\n",
    "    dataset.read_data(c_id_short=True)\n",
    "\n",
    "    # データをDataFrame型で読み込み\n",
    "    df_t = dataset.df\n",
    "    df_sub = dataset.df_sub # 提出用のサンプル\n",
    "    df_u = dataset.dfu # 各顧客の情報(メタデータ)\n",
    "    df_i = dataset.dfi # 各商品の情報(メタデータ)\n",
    "\n",
    "# datetime型に変換\n",
    "df_t['t_dat'] = pd.to_datetime(df_t['t_dat'])"
   ]
  },
  {
   "cell_type": "code",
   "execution_count": 4,
   "metadata": {},
   "outputs": [],
   "source": [
    "# merge\n",
    "df_t = pd.merge(\n",
    "    df_t, df_i, on='article_id', how='left'\n",
    ")\n",
    "\n",
    "df_t = pd.merge(\n",
    "    df_t, df_u, on='customer_id_short', how='left'\n",
    ")\n"
   ]
  },
  {
   "cell_type": "code",
   "execution_count": 7,
   "metadata": {},
   "outputs": [
    {
     "data": {
      "text/html": [
       "<div>\n",
       "<style scoped>\n",
       "    .dataframe tbody tr th:only-of-type {\n",
       "        vertical-align: middle;\n",
       "    }\n",
       "\n",
       "    .dataframe tbody tr th {\n",
       "        vertical-align: top;\n",
       "    }\n",
       "\n",
       "    .dataframe thead th {\n",
       "        text-align: right;\n",
       "    }\n",
       "</style>\n",
       "<table border=\"1\" class=\"dataframe\">\n",
       "  <thead>\n",
       "    <tr style=\"text-align: right;\">\n",
       "      <th></th>\n",
       "      <th>t_dat</th>\n",
       "      <th>customer_id_short</th>\n",
       "      <th>article_id</th>\n",
       "      <th>price</th>\n",
       "      <th>sales_channel_id</th>\n",
       "      <th>week</th>\n",
       "      <th>product_code</th>\n",
       "      <th>prod_name</th>\n",
       "      <th>product_type_no</th>\n",
       "      <th>product_type_name</th>\n",
       "      <th>...</th>\n",
       "      <th>section_name</th>\n",
       "      <th>garment_group_no</th>\n",
       "      <th>garment_group_name</th>\n",
       "      <th>detail_desc</th>\n",
       "      <th>FN</th>\n",
       "      <th>Active</th>\n",
       "      <th>club_member_status</th>\n",
       "      <th>fashion_news_frequency</th>\n",
       "      <th>age</th>\n",
       "      <th>postal_code</th>\n",
       "    </tr>\n",
       "  </thead>\n",
       "  <tbody>\n",
       "    <tr>\n",
       "      <th>0</th>\n",
       "      <td>2018-09-20</td>\n",
       "      <td>52397916724644664</td>\n",
       "      <td>638282001</td>\n",
       "      <td>0.022017</td>\n",
       "      <td>2</td>\n",
       "      <td>0</td>\n",
       "      <td>638282</td>\n",
       "      <td>33213</td>\n",
       "      <td>67</td>\n",
       "      <td>39</td>\n",
       "      <td>...</td>\n",
       "      <td>29</td>\n",
       "      <td>1019</td>\n",
       "      <td>1</td>\n",
       "      <td>41754</td>\n",
       "      <td>-1</td>\n",
       "      <td>-1</td>\n",
       "      <td>1</td>\n",
       "      <td>0</td>\n",
       "      <td>32</td>\n",
       "      <td>36155</td>\n",
       "    </tr>\n",
       "    <tr>\n",
       "      <th>1</th>\n",
       "      <td>2018-09-20</td>\n",
       "      <td>52397916724644664</td>\n",
       "      <td>684033003</td>\n",
       "      <td>0.030492</td>\n",
       "      <td>2</td>\n",
       "      <td>0</td>\n",
       "      <td>684033</td>\n",
       "      <td>12397</td>\n",
       "      <td>78</td>\n",
       "      <td>26</td>\n",
       "      <td>...</td>\n",
       "      <td>25</td>\n",
       "      <td>1019</td>\n",
       "      <td>1</td>\n",
       "      <td>20690</td>\n",
       "      <td>-1</td>\n",
       "      <td>-1</td>\n",
       "      <td>1</td>\n",
       "      <td>0</td>\n",
       "      <td>32</td>\n",
       "      <td>36155</td>\n",
       "    </tr>\n",
       "    <tr>\n",
       "      <th>2</th>\n",
       "      <td>2018-09-20</td>\n",
       "      <td>52397916724644664</td>\n",
       "      <td>617903013</td>\n",
       "      <td>0.022017</td>\n",
       "      <td>2</td>\n",
       "      <td>0</td>\n",
       "      <td>617903</td>\n",
       "      <td>1855</td>\n",
       "      <td>255</td>\n",
       "      <td>3</td>\n",
       "      <td>...</td>\n",
       "      <td>17</td>\n",
       "      <td>1005</td>\n",
       "      <td>0</td>\n",
       "      <td>2120</td>\n",
       "      <td>-1</td>\n",
       "      <td>-1</td>\n",
       "      <td>1</td>\n",
       "      <td>0</td>\n",
       "      <td>32</td>\n",
       "      <td>36155</td>\n",
       "    </tr>\n",
       "    <tr>\n",
       "      <th>3</th>\n",
       "      <td>2018-09-20</td>\n",
       "      <td>52397916724644664</td>\n",
       "      <td>617903009</td>\n",
       "      <td>0.022017</td>\n",
       "      <td>2</td>\n",
       "      <td>0</td>\n",
       "      <td>617903</td>\n",
       "      <td>1855</td>\n",
       "      <td>255</td>\n",
       "      <td>3</td>\n",
       "      <td>...</td>\n",
       "      <td>17</td>\n",
       "      <td>1005</td>\n",
       "      <td>0</td>\n",
       "      <td>2120</td>\n",
       "      <td>-1</td>\n",
       "      <td>-1</td>\n",
       "      <td>1</td>\n",
       "      <td>0</td>\n",
       "      <td>32</td>\n",
       "      <td>36155</td>\n",
       "    </tr>\n",
       "    <tr>\n",
       "      <th>4</th>\n",
       "      <td>2018-09-20</td>\n",
       "      <td>52397916724644664</td>\n",
       "      <td>661435002</td>\n",
       "      <td>0.084729</td>\n",
       "      <td>2</td>\n",
       "      <td>0</td>\n",
       "      <td>661435</td>\n",
       "      <td>7894</td>\n",
       "      <td>272</td>\n",
       "      <td>0</td>\n",
       "      <td>...</td>\n",
       "      <td>37</td>\n",
       "      <td>1016</td>\n",
       "      <td>11</td>\n",
       "      <td>3703</td>\n",
       "      <td>-1</td>\n",
       "      <td>-1</td>\n",
       "      <td>1</td>\n",
       "      <td>0</td>\n",
       "      <td>32</td>\n",
       "      <td>36155</td>\n",
       "    </tr>\n",
       "  </tbody>\n",
       "</table>\n",
       "<p>5 rows × 36 columns</p>\n",
       "</div>"
      ],
      "text/plain": [
       "       t_dat  customer_id_short  article_id     price  sales_channel_id  week  \\\n",
       "0 2018-09-20  52397916724644664   638282001  0.022017                 2     0   \n",
       "1 2018-09-20  52397916724644664   684033003  0.030492                 2     0   \n",
       "2 2018-09-20  52397916724644664   617903013  0.022017                 2     0   \n",
       "3 2018-09-20  52397916724644664   617903009  0.022017                 2     0   \n",
       "4 2018-09-20  52397916724644664   661435002  0.084729                 2     0   \n",
       "\n",
       "   product_code  prod_name  product_type_no  product_type_name  ...  \\\n",
       "0        638282      33213               67                 39  ...   \n",
       "1        684033      12397               78                 26  ...   \n",
       "2        617903       1855              255                  3  ...   \n",
       "3        617903       1855              255                  3  ...   \n",
       "4        661435       7894              272                  0  ...   \n",
       "\n",
       "   section_name  garment_group_no  garment_group_name  detail_desc  FN  \\\n",
       "0            29              1019                   1        41754  -1   \n",
       "1            25              1019                   1        20690  -1   \n",
       "2            17              1005                   0         2120  -1   \n",
       "3            17              1005                   0         2120  -1   \n",
       "4            37              1016                  11         3703  -1   \n",
       "\n",
       "   Active  club_member_status  fashion_news_frequency  age  postal_code  \n",
       "0      -1                   1                       0   32        36155  \n",
       "1      -1                   1                       0   32        36155  \n",
       "2      -1                   1                       0   32        36155  \n",
       "3      -1                   1                       0   32        36155  \n",
       "4      -1                   1                       0   32        36155  \n",
       "\n",
       "[5 rows x 36 columns]"
      ]
     },
     "execution_count": 7,
     "metadata": {},
     "output_type": "execute_result"
    }
   ],
   "source": [
    "df_t.head()"
   ]
  },
  {
   "cell_type": "code",
   "execution_count": 6,
   "metadata": {},
   "outputs": [
    {
     "data": {
      "text/plain": [
       "t_dat\n",
       "2018-09-01    29754\n",
       "2018-10-01    69634\n",
       "2018-11-01    62438\n",
       "2018-12-01    57735\n",
       "2019-01-01    63457\n",
       "2019-02-01    56607\n",
       "2019-03-01    65308\n",
       "2019-04-01    73313\n",
       "2019-05-01    77657\n",
       "2019-06-01    97503\n",
       "2019-07-01    88606\n",
       "2019-08-01    62694\n",
       "2019-09-01    61315\n",
       "2019-10-01    56847\n",
       "2019-11-01    59173\n",
       "2019-12-01    54447\n",
       "2020-01-01    53814\n",
       "2020-02-01    51148\n",
       "2020-03-01    51426\n",
       "2020-04-01    66166\n",
       "2020-05-01    68881\n",
       "2020-06-01    88436\n",
       "2020-07-01    67601\n",
       "2020-08-01    61898\n",
       "2020-09-01    39092\n",
       "Freq: MS, Name: customer_id_short, dtype: int64"
      ]
     },
     "execution_count": 6,
     "metadata": {},
     "output_type": "execute_result"
    }
   ],
   "source": [
    "# 週毎の売上集計\n",
    "df_t.groupby(pd.Grouper(key='t_dat', freq=\"W\"))['customer_id_short'].count()\n",
    "# 月毎の売上集計\n",
    "df_t.groupby(pd.Grouper(key='t_dat', freq=\"MS\"))['customer_id_short'].count()\n"
   ]
  },
  {
   "cell_type": "markdown",
   "metadata": {},
   "source": [
    "# ターゲットエンコーディング特徴量"
   ]
  },
  {
   "cell_type": "markdown",
   "metadata": {},
   "source": [
    "- Target Encoding（Target Mean Encoding）とはカテゴリカル（質的）データを数値に変換する方法の 1 つ。\n",
    "- 様々な手法があるのですが、Target Encoding の一番の特徴は目的変数を使用するという点。\n",
    "- 筆者の言葉で誤解を恐れずに言うのであれば Target Encoding が生み出すのは「値が大きいほど目的変数の値も大きい確率が高い」特徴量ということになる。\n",
    "- 目的変数という答えを利用する Target Encoding はデータセットによっては非常に強力な力を持つ。\n",
    "\n",
    "参考\n",
    "- https://www.codexa.net/target_encoding/\n"
   ]
  },
  {
   "cell_type": "markdown",
   "metadata": {},
   "source": [
    "## ターゲットエンコーディングの基本的な考え方"
   ]
  },
  {
   "cell_type": "markdown",
   "metadata": {},
   "source": [
    "- 問題を単純にするため、このエントリでは二値分類問題に限定して考える。 \n",
    "- 二値分類問題における Target Encoding では、一般的に**説明変数に含まれるカテゴリ変数ごとの、目的変数の平均値**を特徴量として用いる。 \n",
    "  - カテゴリ変数は、複数の組み合わせになることもある。 \n",
    "- また、平均値を用いる手法は、より限定的に **Target Mean Encoding **と呼称することもある。 \n",
    "  - Target Encoding 自体は目的変数を用いた特徴量抽出の手法全般に対する呼称と理解してるけど、一般的には Target Mean Encoding を指すことが多い気がする。"
   ]
  },
  {
   "cell_type": "markdown",
   "metadata": {},
   "source": [
    "## ターゲットエンコーディングの手法について"
   ]
  },
  {
   "cell_type": "markdown",
   "metadata": {},
   "source": [
    "参考\n",
    "- CatBoost: unbiased boosting with categorical features (PDF)"
   ]
  },
  {
   "cell_type": "markdown",
   "metadata": {},
   "source": [
    "前述した CatBoost の論文には、Targe Encoding の手法として以下の 4 つが紹介されている。\n",
    "\n",
    "手法の名前に共通で含まれる TS は Target Statistics の略となっている。\n",
    "\n",
    "- Greedy TS\n",
    "- Leave-one-out TS\n",
    "- Holdout TS\n",
    "- Ordered TS\n",
    "\n",
    "上記の中で、Greedy TS と Leave-one-out TS はリークが生じるため使うべきではない。 \n",
    "そのため、**一般的には Holdout TS が用いられている**。\n",
    " Ordered TS は CatBoost の論文の中で提案されている手法で、リークが生じにくいとされている。"
   ]
  },
  {
   "cell_type": "markdown",
   "metadata": {},
   "source": [
    "## 下準備"
   ]
  },
  {
   "cell_type": "markdown",
   "metadata": {},
   "source": [
    "サンプル用のデータフレームを用意する。 色々なフルーツと、それが美味しいかを示しているとでも考えてもらえれば。"
   ]
  },
  {
   "cell_type": "code",
   "execution_count": 10,
   "metadata": {},
   "outputs": [
    {
     "data": {
      "text/html": [
       "<div>\n",
       "<style scoped>\n",
       "    .dataframe tbody tr th:only-of-type {\n",
       "        vertical-align: middle;\n",
       "    }\n",
       "\n",
       "    .dataframe tbody tr th {\n",
       "        vertical-align: top;\n",
       "    }\n",
       "\n",
       "    .dataframe thead th {\n",
       "        text-align: right;\n",
       "    }\n",
       "</style>\n",
       "<table border=\"1\" class=\"dataframe\">\n",
       "  <thead>\n",
       "    <tr style=\"text-align: right;\">\n",
       "      <th></th>\n",
       "      <th>category</th>\n",
       "      <th>label</th>\n",
       "    </tr>\n",
       "  </thead>\n",
       "  <tbody>\n",
       "    <tr>\n",
       "      <th>0</th>\n",
       "      <td>apple</td>\n",
       "      <td>0</td>\n",
       "    </tr>\n",
       "    <tr>\n",
       "      <th>1</th>\n",
       "      <td>apple</td>\n",
       "      <td>1</td>\n",
       "    </tr>\n",
       "    <tr>\n",
       "      <th>2</th>\n",
       "      <td>banana</td>\n",
       "      <td>0</td>\n",
       "    </tr>\n",
       "    <tr>\n",
       "      <th>3</th>\n",
       "      <td>banana</td>\n",
       "      <td>0</td>\n",
       "    </tr>\n",
       "    <tr>\n",
       "      <th>4</th>\n",
       "      <td>banana</td>\n",
       "      <td>1</td>\n",
       "    </tr>\n",
       "    <tr>\n",
       "      <th>5</th>\n",
       "      <td>cherry</td>\n",
       "      <td>0</td>\n",
       "    </tr>\n",
       "    <tr>\n",
       "      <th>6</th>\n",
       "      <td>cherry</td>\n",
       "      <td>1</td>\n",
       "    </tr>\n",
       "    <tr>\n",
       "      <th>7</th>\n",
       "      <td>cherry</td>\n",
       "      <td>1</td>\n",
       "    </tr>\n",
       "    <tr>\n",
       "      <th>8</th>\n",
       "      <td>cherry</td>\n",
       "      <td>1</td>\n",
       "    </tr>\n",
       "    <tr>\n",
       "      <th>9</th>\n",
       "      <td>durian</td>\n",
       "      <td>1</td>\n",
       "    </tr>\n",
       "  </tbody>\n",
       "</table>\n",
       "</div>"
      ],
      "text/plain": [
       "  category  label\n",
       "0    apple      0\n",
       "1    apple      1\n",
       "2   banana      0\n",
       "3   banana      0\n",
       "4   banana      1\n",
       "5   cherry      0\n",
       "6   cherry      1\n",
       "7   cherry      1\n",
       "8   cherry      1\n",
       "9   durian      1"
      ]
     },
     "execution_count": 10,
     "metadata": {},
     "output_type": "execute_result"
    }
   ],
   "source": [
    "data = {\n",
    "'category': ['apple', 'apple',\n",
    "'banana', 'banana', 'banana',\n",
    "'cherry', 'cherry', 'cherry', 'cherry',\n",
    "'durian'],\n",
    "'label': [0, 1,\n",
    "0, 0, 1,\n",
    "0, 1, 1, 1,\n",
    "1],\n",
    "}\n",
    "\n",
    "df = pd.DataFrame(data=data)\n",
    "df"
   ]
  },
  {
   "cell_type": "markdown",
   "metadata": {},
   "source": [
    "上記を見ると、なんとなく cherry は美味しい割合が高そうで banana は低そうと感じるはず。 この、ラベルの割合が高そう低そう、というのが実は正に Target Encoding の考え方になる。"
   ]
  },
  {
   "cell_type": "markdown",
   "metadata": {},
   "source": [
    "## Greedy TS(使っちゃダメ)"
   ]
  },
  {
   "cell_type": "markdown",
   "metadata": {},
   "source": [
    "まず最初に示すのは Greedy TS から。 最初に断っておくと、この手法はリークを起こすため使ってはいけない。\n",
    "\n",
    "Greedy TS では、データ全体で計算したカテゴリ変数ごとの目的変数の平均値がそのまま特徴量になる。 つまり、以下のようにカテゴリごとに集計した平均値となる。"
   ]
  },
  {
   "cell_type": "code",
   "execution_count": 11,
   "metadata": {},
   "outputs": [
    {
     "data": {
      "text/html": [
       "<div>\n",
       "<style scoped>\n",
       "    .dataframe tbody tr th:only-of-type {\n",
       "        vertical-align: middle;\n",
       "    }\n",
       "\n",
       "    .dataframe tbody tr th {\n",
       "        vertical-align: top;\n",
       "    }\n",
       "\n",
       "    .dataframe thead th {\n",
       "        text-align: right;\n",
       "    }\n",
       "</style>\n",
       "<table border=\"1\" class=\"dataframe\">\n",
       "  <thead>\n",
       "    <tr style=\"text-align: right;\">\n",
       "      <th></th>\n",
       "      <th>category</th>\n",
       "      <th>label</th>\n",
       "    </tr>\n",
       "  </thead>\n",
       "  <tbody>\n",
       "    <tr>\n",
       "      <th>0</th>\n",
       "      <td>apple</td>\n",
       "      <td>0.500000</td>\n",
       "    </tr>\n",
       "    <tr>\n",
       "      <th>1</th>\n",
       "      <td>banana</td>\n",
       "      <td>0.333333</td>\n",
       "    </tr>\n",
       "    <tr>\n",
       "      <th>2</th>\n",
       "      <td>cherry</td>\n",
       "      <td>0.750000</td>\n",
       "    </tr>\n",
       "    <tr>\n",
       "      <th>3</th>\n",
       "      <td>durian</td>\n",
       "      <td>1.000000</td>\n",
       "    </tr>\n",
       "  </tbody>\n",
       "</table>\n",
       "</div>"
      ],
      "text/plain": [
       "  category     label\n",
       "0    apple  0.500000\n",
       "1   banana  0.333333\n",
       "2   cherry  0.750000\n",
       "3   durian  1.000000"
      ]
     },
     "execution_count": 11,
     "metadata": {},
     "output_type": "execute_result"
    }
   ],
   "source": [
    "ts = df.groupby('category', as_index=False).agg({'label': 'mean'})\n",
    "ts"
   ]
  },
  {
   "cell_type": "markdown",
   "metadata": {},
   "source": [
    "元のデータに特徴量を追加する場合、次のようになる。 基本的に、同じカテゴリは同じ特徴量になる。"
   ]
  },
  {
   "cell_type": "code",
   "execution_count": 14,
   "metadata": {},
   "outputs": [
    {
     "data": {
      "text/html": [
       "<div>\n",
       "<style scoped>\n",
       "    .dataframe tbody tr th:only-of-type {\n",
       "        vertical-align: middle;\n",
       "    }\n",
       "\n",
       "    .dataframe tbody tr th {\n",
       "        vertical-align: top;\n",
       "    }\n",
       "\n",
       "    .dataframe thead th {\n",
       "        text-align: right;\n",
       "    }\n",
       "</style>\n",
       "<table border=\"1\" class=\"dataframe\">\n",
       "  <thead>\n",
       "    <tr style=\"text-align: right;\">\n",
       "      <th></th>\n",
       "      <th>category</th>\n",
       "      <th>label_x</th>\n",
       "      <th>label_y</th>\n",
       "    </tr>\n",
       "  </thead>\n",
       "  <tbody>\n",
       "    <tr>\n",
       "      <th>0</th>\n",
       "      <td>apple</td>\n",
       "      <td>0</td>\n",
       "      <td>0.500000</td>\n",
       "    </tr>\n",
       "    <tr>\n",
       "      <th>1</th>\n",
       "      <td>apple</td>\n",
       "      <td>1</td>\n",
       "      <td>0.500000</td>\n",
       "    </tr>\n",
       "    <tr>\n",
       "      <th>2</th>\n",
       "      <td>banana</td>\n",
       "      <td>0</td>\n",
       "      <td>0.333333</td>\n",
       "    </tr>\n",
       "    <tr>\n",
       "      <th>3</th>\n",
       "      <td>banana</td>\n",
       "      <td>0</td>\n",
       "      <td>0.333333</td>\n",
       "    </tr>\n",
       "    <tr>\n",
       "      <th>4</th>\n",
       "      <td>banana</td>\n",
       "      <td>1</td>\n",
       "      <td>0.333333</td>\n",
       "    </tr>\n",
       "    <tr>\n",
       "      <th>5</th>\n",
       "      <td>cherry</td>\n",
       "      <td>0</td>\n",
       "      <td>0.750000</td>\n",
       "    </tr>\n",
       "    <tr>\n",
       "      <th>6</th>\n",
       "      <td>cherry</td>\n",
       "      <td>1</td>\n",
       "      <td>0.750000</td>\n",
       "    </tr>\n",
       "    <tr>\n",
       "      <th>7</th>\n",
       "      <td>cherry</td>\n",
       "      <td>1</td>\n",
       "      <td>0.750000</td>\n",
       "    </tr>\n",
       "    <tr>\n",
       "      <th>8</th>\n",
       "      <td>cherry</td>\n",
       "      <td>1</td>\n",
       "      <td>0.750000</td>\n",
       "    </tr>\n",
       "    <tr>\n",
       "      <th>9</th>\n",
       "      <td>durian</td>\n",
       "      <td>1</td>\n",
       "      <td>1.000000</td>\n",
       "    </tr>\n",
       "  </tbody>\n",
       "</table>\n",
       "</div>"
      ],
      "text/plain": [
       "  category  label_x   label_y\n",
       "0    apple        0  0.500000\n",
       "1    apple        1  0.500000\n",
       "2   banana        0  0.333333\n",
       "3   banana        0  0.333333\n",
       "4   banana        1  0.333333\n",
       "5   cherry        0  0.750000\n",
       "6   cherry        1  0.750000\n",
       "7   cherry        1  0.750000\n",
       "8   cherry        1  0.750000\n",
       "9   durian        1  1.000000"
      ]
     },
     "execution_count": 14,
     "metadata": {},
     "output_type": "execute_result"
    }
   ],
   "source": [
    "pd.merge(df, ts, on='category', how='left')"
   ]
  },
  {
   "cell_type": "markdown",
   "metadata": {},
   "source": [
    "上記の Greedy TS は特徴量を付与するデータ自体も集計対象としている。 そのため、本来は使えない目的変数の情報が説明変数に漏れてしまっている。 結果として、Local CV で性能を高く見積もってしまうことになる。"
   ]
  },
  {
   "cell_type": "markdown",
   "metadata": {},
   "source": [
    "## Leave-one-out TS(これも使っちゃダメ)"
   ]
  },
  {
   "cell_type": "markdown",
   "metadata": {},
   "source": [
    "続いては Leave-one-out TS という手法。 一見すると上手くいきそうだけど、このやり方もリークが生じるため使ってはいけない。\n",
    "\n",
    "まず、Leave-one-out TS の基本的な考え方は、**特徴量を付与する対象となるデータをピンポイントで除いて集計する**というもの。 \n",
    "\n",
    "計算方法にはいくつかやり方があるけど、ここではあらかじめ集計した値から付与対象のデータを取り除く方法を取る。"
   ]
  },
  {
   "cell_type": "markdown",
   "metadata": {},
   "source": [
    "まずはカテゴリ変数ごとの目的変数の合計とカウントを計算しておく。"
   ]
  },
  {
   "cell_type": "code",
   "execution_count": 16,
   "metadata": {},
   "outputs": [
    {
     "data": {
      "text/html": [
       "<div>\n",
       "<style scoped>\n",
       "    .dataframe tbody tr th:only-of-type {\n",
       "        vertical-align: middle;\n",
       "    }\n",
       "\n",
       "    .dataframe tbody tr th {\n",
       "        vertical-align: top;\n",
       "    }\n",
       "\n",
       "    .dataframe thead tr th {\n",
       "        text-align: left;\n",
       "    }\n",
       "\n",
       "    .dataframe thead tr:last-of-type th {\n",
       "        text-align: right;\n",
       "    }\n",
       "</style>\n",
       "<table border=\"1\" class=\"dataframe\">\n",
       "  <thead>\n",
       "    <tr>\n",
       "      <th></th>\n",
       "      <th colspan=\"2\" halign=\"left\">label</th>\n",
       "    </tr>\n",
       "    <tr>\n",
       "      <th></th>\n",
       "      <th>sum</th>\n",
       "      <th>count</th>\n",
       "    </tr>\n",
       "    <tr>\n",
       "      <th>category</th>\n",
       "      <th></th>\n",
       "      <th></th>\n",
       "    </tr>\n",
       "  </thead>\n",
       "  <tbody>\n",
       "    <tr>\n",
       "      <th>apple</th>\n",
       "      <td>1</td>\n",
       "      <td>2</td>\n",
       "    </tr>\n",
       "    <tr>\n",
       "      <th>banana</th>\n",
       "      <td>1</td>\n",
       "      <td>3</td>\n",
       "    </tr>\n",
       "    <tr>\n",
       "      <th>cherry</th>\n",
       "      <td>3</td>\n",
       "      <td>4</td>\n",
       "    </tr>\n",
       "    <tr>\n",
       "      <th>durian</th>\n",
       "      <td>1</td>\n",
       "      <td>1</td>\n",
       "    </tr>\n",
       "  </tbody>\n",
       "</table>\n",
       "</div>"
      ],
      "text/plain": [
       "         label      \n",
       "           sum count\n",
       "category            \n",
       "apple        1     2\n",
       "banana       1     3\n",
       "cherry       3     4\n",
       "durian       1     1"
      ]
     },
     "execution_count": 16,
     "metadata": {},
     "output_type": "execute_result"
    }
   ],
   "source": [
    "agg_df = df.groupby('category').agg({'label': ['sum', 'count']})\n",
    "agg_df"
   ]
  },
  {
   "cell_type": "markdown",
   "metadata": {},
   "source": [
    "上記の集計から、付与する対象のデータだけを除外して計算した平均値を計算する関数を定義する。"
   ]
  },
  {
   "cell_type": "code",
   "execution_count": 23,
   "metadata": {},
   "outputs": [],
   "source": [
    "def loo_ts(row):\n",
    "    \"\"\"apply関数用。\n",
    "\n",
    "    Parameters\n",
    "    ----------\n",
    "    row : _type_\n",
    "        _description_\n",
    "\n",
    "    Returns\n",
    "    -------\n",
    "    _type_\n",
    "        _description_\n",
    "    \"\"\"\n",
    "    # 処理対象レコードのカテゴリに対する、「カテゴリ変数ごとの目的変数の合計値とカウント」の集計を取り出す\n",
    "    group_ts = agg_df.loc[row.category]\n",
    "    # 取り出した「目的変数の合計値」から、処理対象レコードの目的変数の値を除く\n",
    "    loo_sum = group_ts.loc[('label', 'sum')] - row.label\n",
    "    # 取り出した「目的変数のカウント」から、処理対象レコードの存在を除く\n",
    "    loo_count = group_ts.loc[('label', 'count')] - 1\n",
    "    # 合計値をカウントで割って平均を取り出す( = 処理対象レコードのみを除いてTarget mean encodingしている)\n",
    "    return loo_sum / loo_count"
   ]
  },
  {
   "cell_type": "markdown",
   "metadata": {},
   "source": [
    "上記の関数を各行に適用して得られる結果が次の通り。 \n",
    "\n",
    "これが Leave-one-out TS の特徴量となる。 \n",
    "\n",
    "先ほどの結果と違って同じカテゴリの中でも特徴量の値が異なっていることがわかる。"
   ]
  },
  {
   "cell_type": "code",
   "execution_count": 18,
   "metadata": {},
   "outputs": [
    {
     "name": "stderr",
     "output_type": "stream",
     "text": [
      "C:\\Users\\Masat\\Anaconda3\\lib\\site-packages\\ipykernel_launcher.py:9: RuntimeWarning: invalid value encountered in longlong_scalars\n",
      "  if __name__ == '__main__':\n"
     ]
    },
    {
     "data": {
      "text/plain": [
       "0    1.000000\n",
       "1    0.000000\n",
       "2    0.500000\n",
       "3    0.500000\n",
       "4    0.000000\n",
       "5    1.000000\n",
       "6    0.666667\n",
       "7    0.666667\n",
       "8    0.666667\n",
       "9         NaN\n",
       "dtype: float64"
      ]
     },
     "execution_count": 18,
     "metadata": {},
     "output_type": "execute_result"
    }
   ],
   "source": [
    "ts = df.apply(loo_ts, axis=1)\n",
    "ts"
   ]
  },
  {
   "cell_type": "markdown",
   "metadata": {},
   "source": [
    "このやり方のまずさは元の説明変数と結合してみるとわかる。 \n",
    "以下で、例えば apple のカテゴリの結果は目的変数を反転させた結果となっていることがわかる。 \n",
    "もちろん、これは極端なパターンだけど、**これでは目的変数をそのまま説明変数に埋め込んでいる**のと変わりがない。"
   ]
  },
  {
   "cell_type": "code",
   "execution_count": 22,
   "metadata": {},
   "outputs": [
    {
     "data": {
      "text/html": [
       "<div>\n",
       "<style scoped>\n",
       "    .dataframe tbody tr th:only-of-type {\n",
       "        vertical-align: middle;\n",
       "    }\n",
       "\n",
       "    .dataframe tbody tr th {\n",
       "        vertical-align: top;\n",
       "    }\n",
       "\n",
       "    .dataframe thead th {\n",
       "        text-align: right;\n",
       "    }\n",
       "</style>\n",
       "<table border=\"1\" class=\"dataframe\">\n",
       "  <thead>\n",
       "    <tr style=\"text-align: right;\">\n",
       "      <th></th>\n",
       "      <th>category</th>\n",
       "      <th>label</th>\n",
       "      <th>loo_ts</th>\n",
       "    </tr>\n",
       "  </thead>\n",
       "  <tbody>\n",
       "    <tr>\n",
       "      <th>0</th>\n",
       "      <td>apple</td>\n",
       "      <td>0</td>\n",
       "      <td>1.000000</td>\n",
       "    </tr>\n",
       "    <tr>\n",
       "      <th>1</th>\n",
       "      <td>apple</td>\n",
       "      <td>1</td>\n",
       "      <td>0.000000</td>\n",
       "    </tr>\n",
       "    <tr>\n",
       "      <th>2</th>\n",
       "      <td>banana</td>\n",
       "      <td>0</td>\n",
       "      <td>0.500000</td>\n",
       "    </tr>\n",
       "    <tr>\n",
       "      <th>3</th>\n",
       "      <td>banana</td>\n",
       "      <td>0</td>\n",
       "      <td>0.500000</td>\n",
       "    </tr>\n",
       "    <tr>\n",
       "      <th>4</th>\n",
       "      <td>banana</td>\n",
       "      <td>1</td>\n",
       "      <td>0.000000</td>\n",
       "    </tr>\n",
       "    <tr>\n",
       "      <th>5</th>\n",
       "      <td>cherry</td>\n",
       "      <td>0</td>\n",
       "      <td>1.000000</td>\n",
       "    </tr>\n",
       "    <tr>\n",
       "      <th>6</th>\n",
       "      <td>cherry</td>\n",
       "      <td>1</td>\n",
       "      <td>0.666667</td>\n",
       "    </tr>\n",
       "    <tr>\n",
       "      <th>7</th>\n",
       "      <td>cherry</td>\n",
       "      <td>1</td>\n",
       "      <td>0.666667</td>\n",
       "    </tr>\n",
       "    <tr>\n",
       "      <th>8</th>\n",
       "      <td>cherry</td>\n",
       "      <td>1</td>\n",
       "      <td>0.666667</td>\n",
       "    </tr>\n",
       "    <tr>\n",
       "      <th>9</th>\n",
       "      <td>durian</td>\n",
       "      <td>1</td>\n",
       "      <td>NaN</td>\n",
       "    </tr>\n",
       "  </tbody>\n",
       "</table>\n",
       "</div>"
      ],
      "text/plain": [
       "  category  label    loo_ts\n",
       "0    apple      0  1.000000\n",
       "1    apple      1  0.000000\n",
       "2   banana      0  0.500000\n",
       "3   banana      0  0.500000\n",
       "4   banana      1  0.000000\n",
       "5   cherry      0  1.000000\n",
       "6   cherry      1  0.666667\n",
       "7   cherry      1  0.666667\n",
       "8   cherry      1  0.666667\n",
       "9   durian      1       NaN"
      ]
     },
     "execution_count": 22,
     "metadata": {},
     "output_type": "execute_result"
    }
   ],
   "source": [
    "ts.name = 'loo_ts'\n",
    "df.join(ts)"
   ]
  },
  {
   "cell_type": "markdown",
   "metadata": {},
   "source": [
    "ちなみに durian の NaN は Leave-one-out しようにも、同じカテゴリのデータがないために生じている。 これを回避するには、**分母 (と場合によっては分子にも) に定数を加える Smoothing** をした方が良い。 以下では分かりやすさのために足して引いてしている。"
   ]
  },
  {
   "cell_type": "markdown",
   "metadata": {},
   "source": [
    "## "
   ]
  },
  {
   "cell_type": "code",
   "execution_count": 26,
   "metadata": {},
   "outputs": [
    {
     "data": {
      "text/plain": [
       "0    0.500000\n",
       "1    0.000000\n",
       "2    0.333333\n",
       "3    0.333333\n",
       "4    0.000000\n",
       "5    0.750000\n",
       "6    0.500000\n",
       "7    0.500000\n",
       "8    0.500000\n",
       "9    0.000000\n",
       "dtype: float64"
      ]
     },
     "execution_count": 26,
     "metadata": {},
     "output_type": "execute_result"
    }
   ],
   "source": [
    "def loo_ts(row):\n",
    "    \"\"\"apply関数用。\n",
    "\n",
    "    Parameters\n",
    "    ----------\n",
    "    row : _type_\n",
    "        _description_\n",
    "\n",
    "    Returns\n",
    "    -------\n",
    "    _type_\n",
    "        _description_\n",
    "    \"\"\"\n",
    "    # 処理対象レコードのカテゴリに対する、「カテゴリ変数ごとの目的変数の合計値とカウント」の集計を取り出す\n",
    "    group_ts = agg_df.loc[row.category]\n",
    "    # 取り出した「目的変数の合計値」から、処理対象レコードの目的変数の値を除く\n",
    "    loo_sum = group_ts.loc[('label', 'sum')] - row.label\n",
    "    # 取り出した「目的変数のカウント」から、処理対象レコードの存在を除く\n",
    "    loo_count = group_ts.loc[('label', 'count')] - 1\n",
    "    # 合計値をカウントで割って平均を取り出す( = 処理対象レコードのみを除いてTarget mean encodingしている)\n",
    "    return loo_sum / (loo_count + 1) # smoothing\n",
    "\n",
    "df.apply(func=loo_ts, axis=1)"
   ]
  },
  {
   "cell_type": "markdown",
   "metadata": {},
   "source": [
    "Smoothingによって、今度は NaN が登場しない。"
   ]
  },
  {
   "cell_type": "markdown",
   "metadata": {},
   "source": [
    "## Holdout TS"
   ]
  },
  {
   "cell_type": "markdown",
   "metadata": {},
   "source": [
    "- 続いて紹介するのが、現在一般的な Target Encoding として用いられている Holdout TS という手法。- \n",
    "- より厳密には Holdout TS を交差させて全データに適用したもの。 \n",
    "- Holdout TS は、前述した 2 つの手法よりもリークが起こりにくいとされる (起こらないわけではない)。"
   ]
  },
  {
   "cell_type": "markdown",
   "metadata": {},
   "source": [
    "Holdout TS では、**Leave-one-out TS ではひとつだけだった除外データを増やす**。 つまり、**特定の割合でデータを学習用とホールドアウトに分割**することになる。 その上で、学習用のデータを用いて計算した平均値をホールドアウトの特徴量として使う。 これを全データに対して k-Fold CV の要領で適用すれば良い。"
   ]
  },
  {
   "cell_type": "markdown",
   "metadata": {},
   "source": [
    "計算方法は、Leave-one-out TS と同じように、あらかじめ集計した値から除外対象を引くやり方にしてみる。 まずは単純に合計とカウントを集計する。"
   ]
  },
  {
   "cell_type": "code",
   "execution_count": 27,
   "metadata": {},
   "outputs": [
    {
     "data": {
      "text/html": [
       "<div>\n",
       "<style scoped>\n",
       "    .dataframe tbody tr th:only-of-type {\n",
       "        vertical-align: middle;\n",
       "    }\n",
       "\n",
       "    .dataframe tbody tr th {\n",
       "        vertical-align: top;\n",
       "    }\n",
       "\n",
       "    .dataframe thead tr th {\n",
       "        text-align: left;\n",
       "    }\n",
       "\n",
       "    .dataframe thead tr:last-of-type th {\n",
       "        text-align: right;\n",
       "    }\n",
       "</style>\n",
       "<table border=\"1\" class=\"dataframe\">\n",
       "  <thead>\n",
       "    <tr>\n",
       "      <th></th>\n",
       "      <th colspan=\"2\" halign=\"left\">label</th>\n",
       "    </tr>\n",
       "    <tr>\n",
       "      <th></th>\n",
       "      <th>sum</th>\n",
       "      <th>count</th>\n",
       "    </tr>\n",
       "    <tr>\n",
       "      <th>category</th>\n",
       "      <th></th>\n",
       "      <th></th>\n",
       "    </tr>\n",
       "  </thead>\n",
       "  <tbody>\n",
       "    <tr>\n",
       "      <th>apple</th>\n",
       "      <td>1</td>\n",
       "      <td>2</td>\n",
       "    </tr>\n",
       "    <tr>\n",
       "      <th>banana</th>\n",
       "      <td>1</td>\n",
       "      <td>3</td>\n",
       "    </tr>\n",
       "    <tr>\n",
       "      <th>cherry</th>\n",
       "      <td>3</td>\n",
       "      <td>4</td>\n",
       "    </tr>\n",
       "    <tr>\n",
       "      <th>durian</th>\n",
       "      <td>1</td>\n",
       "      <td>1</td>\n",
       "    </tr>\n",
       "  </tbody>\n",
       "</table>\n",
       "</div>"
      ],
      "text/plain": [
       "         label      \n",
       "           sum count\n",
       "category            \n",
       "apple        1     2\n",
       "banana       1     3\n",
       "cherry       3     4\n",
       "durian       1     1"
      ]
     },
     "execution_count": 27,
     "metadata": {},
     "output_type": "execute_result"
    }
   ],
   "source": [
    "agg_df = df.groupby('category').agg({'label': ['sum', 'count']})\n",
    "agg_df"
   ]
  },
  {
   "cell_type": "markdown",
   "metadata": {},
   "source": [
    "データを分割するための KFold オブジェクトを用意する。"
   ]
  },
  {
   "cell_type": "code",
   "execution_count": 30,
   "metadata": {},
   "outputs": [
    {
     "data": {
      "text/plain": [
       "StratifiedKFold(n_splits=3, random_state=42, shuffle=True)"
      ]
     },
     "execution_count": 30,
     "metadata": {},
     "output_type": "execute_result"
    }
   ],
   "source": [
    "from sklearn.model_selection import StratifiedKFold\n",
    "\n",
    "folds = StratifiedKFold(n_splits=3, shuffle=True, random_state=42)\n",
    "\n",
    "folds"
   ]
  },
  {
   "cell_type": "markdown",
   "metadata": {},
   "source": [
    "生成した特徴量を入れる Series オブジェクトを用意しておく。"
   ]
  },
  {
   "cell_type": "code",
   "execution_count": 29,
   "metadata": {},
   "outputs": [
    {
     "data": {
      "text/plain": [
       "0     0.000000e+00\n",
       "1     0.000000e+00\n",
       "2    4.940656e-324\n",
       "3    4.940656e-324\n",
       "4    4.940656e-324\n",
       "5    9.881313e-324\n",
       "6    9.881313e-324\n",
       "7    9.881313e-324\n",
       "8    9.881313e-324\n",
       "9    1.482197e-323\n",
       "dtype: float64"
      ]
     },
     "execution_count": 29,
     "metadata": {},
     "output_type": "execute_result"
    }
   ],
   "source": [
    "import numpy as np\n",
    "ts = pd.Series(data=np.empty(df.shape[0]), index=df.index)\n",
    "ts"
   ]
  },
  {
   "cell_type": "markdown",
   "metadata": {},
   "source": [
    "そして、次のようにしてホールドアウト分を全体から除外した上で平均値を計算する"
   ]
  },
  {
   "cell_type": "code",
   "execution_count": 31,
   "metadata": {},
   "outputs": [
    {
     "name": "stderr",
     "output_type": "stream",
     "text": [
      "C:\\Users\\Masat\\Anaconda3\\lib\\site-packages\\ipykernel_launcher.py:11: RuntimeWarning: invalid value encountered in double_scalars\n",
      "  # This is added back by InteractiveShellApp.init_path()\n"
     ]
    }
   ],
   "source": [
    "for _, holdout_idx in folds.split(X=df, y=df['label']):\n",
    "    # ホールドアウトする行を取り出す\n",
    "    holdout_df = df.iloc[holdout_idx]\n",
    "    # ホールドアウトしたデータで合計とカウントを計算する\n",
    "    holdout_agg_df = holdout_df.groupby(\n",
    "        'category').agg({'label': ['sum', 'count']})\n",
    "    # 全体の集計(目的変数の合計値＆カウント)からホールドアウトした分を引く\n",
    "    train_agg_df = agg_df - holdout_agg_df\n",
    "    # ホールドアウトしたデータの平均値を計算していく\n",
    "    oof_ts = holdout_df.apply(lambda row: train_agg_df.loc[row.category][('label', 'sum')]\n",
    "                              / train_agg_df.loc[row.category][('label', 'count')], axis=1)\n",
    "    # 生成した特徴量を記録する\n",
    "    ts[oof_ts.index] = oof_ts\n"
   ]
  },
  {
   "cell_type": "code",
   "execution_count": 32,
   "metadata": {},
   "outputs": [
    {
     "data": {
      "text/html": [
       "<div>\n",
       "<style scoped>\n",
       "    .dataframe tbody tr th:only-of-type {\n",
       "        vertical-align: middle;\n",
       "    }\n",
       "\n",
       "    .dataframe tbody tr th {\n",
       "        vertical-align: top;\n",
       "    }\n",
       "\n",
       "    .dataframe thead th {\n",
       "        text-align: right;\n",
       "    }\n",
       "</style>\n",
       "<table border=\"1\" class=\"dataframe\">\n",
       "  <thead>\n",
       "    <tr style=\"text-align: right;\">\n",
       "      <th></th>\n",
       "      <th>category</th>\n",
       "      <th>label</th>\n",
       "      <th>holdout_ts</th>\n",
       "    </tr>\n",
       "  </thead>\n",
       "  <tbody>\n",
       "    <tr>\n",
       "      <th>0</th>\n",
       "      <td>apple</td>\n",
       "      <td>0</td>\n",
       "      <td>1.000000</td>\n",
       "    </tr>\n",
       "    <tr>\n",
       "      <th>1</th>\n",
       "      <td>apple</td>\n",
       "      <td>1</td>\n",
       "      <td>0.000000</td>\n",
       "    </tr>\n",
       "    <tr>\n",
       "      <th>2</th>\n",
       "      <td>banana</td>\n",
       "      <td>0</td>\n",
       "      <td>0.500000</td>\n",
       "    </tr>\n",
       "    <tr>\n",
       "      <th>3</th>\n",
       "      <td>banana</td>\n",
       "      <td>0</td>\n",
       "      <td>0.000000</td>\n",
       "    </tr>\n",
       "    <tr>\n",
       "      <th>4</th>\n",
       "      <td>banana</td>\n",
       "      <td>1</td>\n",
       "      <td>0.000000</td>\n",
       "    </tr>\n",
       "    <tr>\n",
       "      <th>5</th>\n",
       "      <td>cherry</td>\n",
       "      <td>0</td>\n",
       "      <td>1.000000</td>\n",
       "    </tr>\n",
       "    <tr>\n",
       "      <th>6</th>\n",
       "      <td>cherry</td>\n",
       "      <td>1</td>\n",
       "      <td>0.500000</td>\n",
       "    </tr>\n",
       "    <tr>\n",
       "      <th>7</th>\n",
       "      <td>cherry</td>\n",
       "      <td>1</td>\n",
       "      <td>0.666667</td>\n",
       "    </tr>\n",
       "    <tr>\n",
       "      <th>8</th>\n",
       "      <td>cherry</td>\n",
       "      <td>1</td>\n",
       "      <td>0.500000</td>\n",
       "    </tr>\n",
       "    <tr>\n",
       "      <th>9</th>\n",
       "      <td>durian</td>\n",
       "      <td>1</td>\n",
       "      <td>NaN</td>\n",
       "    </tr>\n",
       "  </tbody>\n",
       "</table>\n",
       "</div>"
      ],
      "text/plain": [
       "  category  label  holdout_ts\n",
       "0    apple      0    1.000000\n",
       "1    apple      1    0.000000\n",
       "2   banana      0    0.500000\n",
       "3   banana      0    0.000000\n",
       "4   banana      1    0.000000\n",
       "5   cherry      0    1.000000\n",
       "6   cherry      1    0.500000\n",
       "7   cherry      1    0.666667\n",
       "8   cherry      1    0.500000\n",
       "9   durian      1         NaN"
      ]
     },
     "execution_count": 32,
     "metadata": {},
     "output_type": "execute_result"
    }
   ],
   "source": [
    "ts.name = 'holdout_ts'\n",
    "df.join(ts)"
   ]
  },
  {
   "cell_type": "markdown",
   "metadata": {},
   "source": [
    "しかし、上記では NaN となっている値が多いことに気づく。 これは、データの分割方法によっては学習データが少なくなって平均値が計算できなくなってしまうため。\n",
    "\n",
    "Holdout TS でも、やはり Smoothing はした方が良さそう。"
   ]
  },
  {
   "cell_type": "code",
   "execution_count": 33,
   "metadata": {},
   "outputs": [],
   "source": [
    "for _, holdout_idx in folds.split(X=df, y=df['label']):\n",
    "    # ホールドアウトする行を取り出す\n",
    "    holdout_df = df.iloc[holdout_idx]\n",
    "    # ホールドアウトしたデータで合計とカウントを計算する\n",
    "    holdout_agg_df = holdout_df.groupby(\n",
    "        'category').agg({'label': ['sum', 'count']})\n",
    "    # 全体の集計(目的変数の合計値＆カウント)からホールドアウトした分を引く\n",
    "    train_agg_df = agg_df - holdout_agg_df\n",
    "    # ホールドアウトしたデータの平均値を計算していく\n",
    "    oof_ts = holdout_df.apply(lambda row: train_agg_df.loc[row.category][('label', 'sum')]\n",
    "                              / (train_agg_df.loc[row.category][('label', 'count')]+1), axis=1)\n",
    "    # 生成した特徴量を記録する\n",
    "    ts[oof_ts.index] = oof_ts"
   ]
  },
  {
   "cell_type": "code",
   "execution_count": 34,
   "metadata": {},
   "outputs": [
    {
     "data": {
      "text/html": [
       "<div>\n",
       "<style scoped>\n",
       "    .dataframe tbody tr th:only-of-type {\n",
       "        vertical-align: middle;\n",
       "    }\n",
       "\n",
       "    .dataframe tbody tr th {\n",
       "        vertical-align: top;\n",
       "    }\n",
       "\n",
       "    .dataframe thead th {\n",
       "        text-align: right;\n",
       "    }\n",
       "</style>\n",
       "<table border=\"1\" class=\"dataframe\">\n",
       "  <thead>\n",
       "    <tr style=\"text-align: right;\">\n",
       "      <th></th>\n",
       "      <th>category</th>\n",
       "      <th>label</th>\n",
       "      <th>holdout_ts</th>\n",
       "    </tr>\n",
       "  </thead>\n",
       "  <tbody>\n",
       "    <tr>\n",
       "      <th>0</th>\n",
       "      <td>apple</td>\n",
       "      <td>0</td>\n",
       "      <td>0.500000</td>\n",
       "    </tr>\n",
       "    <tr>\n",
       "      <th>1</th>\n",
       "      <td>apple</td>\n",
       "      <td>1</td>\n",
       "      <td>0.000000</td>\n",
       "    </tr>\n",
       "    <tr>\n",
       "      <th>2</th>\n",
       "      <td>banana</td>\n",
       "      <td>0</td>\n",
       "      <td>0.333333</td>\n",
       "    </tr>\n",
       "    <tr>\n",
       "      <th>3</th>\n",
       "      <td>banana</td>\n",
       "      <td>0</td>\n",
       "      <td>0.000000</td>\n",
       "    </tr>\n",
       "    <tr>\n",
       "      <th>4</th>\n",
       "      <td>banana</td>\n",
       "      <td>1</td>\n",
       "      <td>0.000000</td>\n",
       "    </tr>\n",
       "    <tr>\n",
       "      <th>5</th>\n",
       "      <td>cherry</td>\n",
       "      <td>0</td>\n",
       "      <td>0.750000</td>\n",
       "    </tr>\n",
       "    <tr>\n",
       "      <th>6</th>\n",
       "      <td>cherry</td>\n",
       "      <td>1</td>\n",
       "      <td>0.333333</td>\n",
       "    </tr>\n",
       "    <tr>\n",
       "      <th>7</th>\n",
       "      <td>cherry</td>\n",
       "      <td>1</td>\n",
       "      <td>0.500000</td>\n",
       "    </tr>\n",
       "    <tr>\n",
       "      <th>8</th>\n",
       "      <td>cherry</td>\n",
       "      <td>1</td>\n",
       "      <td>0.333333</td>\n",
       "    </tr>\n",
       "    <tr>\n",
       "      <th>9</th>\n",
       "      <td>durian</td>\n",
       "      <td>1</td>\n",
       "      <td>0.000000</td>\n",
       "    </tr>\n",
       "  </tbody>\n",
       "</table>\n",
       "</div>"
      ],
      "text/plain": [
       "  category  label  holdout_ts\n",
       "0    apple      0    0.500000\n",
       "1    apple      1    0.000000\n",
       "2   banana      0    0.333333\n",
       "3   banana      0    0.000000\n",
       "4   banana      1    0.000000\n",
       "5   cherry      0    0.750000\n",
       "6   cherry      1    0.333333\n",
       "7   cherry      1    0.500000\n",
       "8   cherry      1    0.333333\n",
       "9   durian      1    0.000000"
      ]
     },
     "execution_count": 34,
     "metadata": {},
     "output_type": "execute_result"
    }
   ],
   "source": [
    "ts.name = 'holdout_ts'\n",
    "df.join(ts)"
   ]
  },
  {
   "cell_type": "markdown",
   "metadata": {},
   "source": [
    "## Ordered TS"
   ]
  },
  {
   "cell_type": "markdown",
   "metadata": {},
   "source": [
    "最後に紹介するのが CatBoost の論文で提案されている Ordered TS というやり方。 このやり方は Holdout TS よりも、さらにリークを起こしにくいらしい。"
   ]
  },
  {
   "cell_type": "markdown",
   "metadata": {},
   "source": [
    "Ordered TS の基本的な考え方はオンライン学習に着想を得たもの。 \n",
    "\n",
    "- ある行の特徴量として平均値を計算するのに、その時点で過去に登場したデータの集計を用いる。 \n",
    "- ようするにストリーミング的にデータが次々と到着する場面で、到着したデータには過去の平均値を付与していくのをイメージすると良い。\n",
    "- データが到着する毎に、過去のデータ (History) も増えて平均値も更新されていく"
   ]
  },
  {
   "cell_type": "markdown",
   "metadata": {},
   "source": [
    "しかし、上記の考え方はデータに時系列の要素が含まれないことも多い点が問題となる。 そこで、Ordered TS では **artificial \"time\" (人工的な時間) という概念を持ち込む**。 これは、**ようするにデータが登場する順番を人工的に定義したもの**。 典型的には、データのインデックス番号をランダムにシャッフルして使えば良い。"
   ]
  },
  {
   "cell_type": "markdown",
   "metadata": {},
   "source": [
    "説明が長くなってもあれなのでコードに移る。 まずはデータフレームのインデックスを元に artificial \"time\" を定義する。"
   ]
  },
  {
   "cell_type": "code",
   "execution_count": 35,
   "metadata": {},
   "outputs": [
    {
     "data": {
      "text/plain": [
       "array([8, 1, 5, 0, 7, 2, 9, 4, 3, 6], dtype=int64)"
      ]
     },
     "execution_count": 35,
     "metadata": {},
     "output_type": "execute_result"
    }
   ],
   "source": [
    "np.random.seed(42)\n",
    "artificial_time = np.random.permutation(df.index)\n",
    "artificial_time"
   ]
  },
  {
   "cell_type": "markdown",
   "metadata": {},
   "source": [
    "続いて、グループ化するのに使うカラムとターゲットのカラム、Smoothing の有無について変数を用意しておく。"
   ]
  },
  {
   "cell_type": "code",
   "execution_count": null,
   "metadata": {},
   "outputs": [],
   "source": [
    "group_col = 'category'\n",
    "target_col = 'label'\n",
    "smooth = False"
   ]
  }
 ],
 "metadata": {
  "interpreter": {
   "hash": "cf81a5d0005818d380e57456454a0196b707d1dd351e174f9c97c6c79826cdac"
  },
  "kernelspec": {
   "display_name": "Python 3.7.4 ('base')",
   "language": "python",
   "name": "python3"
  },
  "language_info": {
   "codemirror_mode": {
    "name": "ipython",
    "version": 3
   },
   "file_extension": ".py",
   "mimetype": "text/x-python",
   "name": "python",
   "nbconvert_exporter": "python",
   "pygments_lexer": "ipython3",
   "version": "3.7.4"
  },
  "orig_nbformat": 4
 },
 "nbformat": 4,
 "nbformat_minor": 2
}
